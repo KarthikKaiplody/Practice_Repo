{
 "cells": [
  {
   "cell_type": "markdown",
   "metadata": {},
   "source": [
    "### Exception Handling"
   ]
  },
  {
   "cell_type": "code",
   "execution_count": 1,
   "metadata": {},
   "outputs": [
    {
     "name": "stdout",
     "output_type": "stream",
     "text": [
      "1\n",
      "0\n",
      "ZeroDivisionError\n"
     ]
    }
   ],
   "source": [
    "# Using the try and except block\n",
    "x = input()\n",
    "y = input()\n",
    "\n",
    "try: \n",
    "    div = int(x)/int(y)\n",
    "except Exception as e:\n",
    "    # Checking the name of the exception\n",
    "    print(type(e).__name__)"
   ]
  },
  {
   "cell_type": "code",
   "execution_count": 2,
   "metadata": {},
   "outputs": [
    {
     "name": "stdout",
     "output_type": "stream",
     "text": [
      "1\n",
      "\"2\"\n",
      "ValueError\n"
     ]
    }
   ],
   "source": [
    "# Handling the multiple exceptions\n",
    "x = input()\n",
    "y = input()\n",
    "\n",
    "try: \n",
    "    div = int(x)/int(y)\n",
    "    print (div)\n",
    "except Exception as e:\n",
    "    # Checking the name of the exception\n",
    "    print(type(e).__name__)\n",
    "except ZeroDivisionError as e:\n",
    "    print(\"Division by Zero\")"
   ]
  },
  {
   "cell_type": "code",
   "execution_count": null,
   "metadata": {},
   "outputs": [],
   "source": []
  }
 ],
 "metadata": {
  "kernelspec": {
   "display_name": "Python 3",
   "language": "python",
   "name": "python3"
  },
  "language_info": {
   "codemirror_mode": {
    "name": "ipython",
    "version": 3
   },
   "file_extension": ".py",
   "mimetype": "text/x-python",
   "name": "python",
   "nbconvert_exporter": "python",
   "pygments_lexer": "ipython3",
   "version": "3.8.5"
  }
 },
 "nbformat": 4,
 "nbformat_minor": 4
}
