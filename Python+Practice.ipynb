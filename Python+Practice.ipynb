{
 "cells": [
  {
   "cell_type": "markdown",
   "metadata": {},
   "source": [
    "### Exception Handling"
   ]
  },
  {
   "cell_type": "code",
   "execution_count": 1,
   "metadata": {},
   "outputs": [
    {
     "name": "stdout",
     "output_type": "stream",
     "text": [
      "1\n",
      "0\n",
      "ZeroDivisionError\n"
     ]
    }
   ],
   "source": [
    "# Using the try and except block\n",
    "x = input()\n",
    "y = input()\n",
    "\n",
    "try: \n",
    "    div = int(x)/int(y)\n",
    "except Exception as e:\n",
    "    # Checking the name of the exception\n",
    "    print(type(e).__name__)"
   ]
  },
  {
   "cell_type": "code",
   "execution_count": 2,
   "metadata": {},
   "outputs": [
    {
     "name": "stdout",
     "output_type": "stream",
     "text": [
      "1\n",
      "\"2\"\n",
      "ValueError\n"
     ]
    }
   ],
   "source": [
    "# Handling the multiple exceptions\n",
    "x = input()\n",
    "y = input()\n",
    "\n",
    "try: \n",
    "    div = int(x)/int(y)\n",
    "    print (div)\n",
    "except Exception as e:\n",
    "    # Checking the name of the exception\n",
    "    print(type(e).__name__)\n",
    "except ZeroDivisionError as e:\n",
    "    print(\"Division by Zero\")"
   ]
  },
  {
   "cell_type": "markdown",
   "metadata": {},
   "source": [
    "## Checking the array sequences"
   ]
  },
  {
   "cell_type": "code",
   "execution_count": 6,
   "metadata": {},
   "outputs": [
    {
     "name": "stdout",
     "output_type": "stream",
     "text": [
      "Length:   0; Size in bytes:   64\n",
      "Length:   1; Size in bytes:   96\n",
      "Length:   2; Size in bytes:   96\n",
      "Length:   3; Size in bytes:   96\n",
      "Length:   4; Size in bytes:   96\n",
      "Length:   5; Size in bytes:  128\n",
      "Length:   6; Size in bytes:  128\n",
      "Length:   7; Size in bytes:  128\n",
      "Length:   8; Size in bytes:  128\n",
      "Length:   9; Size in bytes:  192\n"
     ]
    }
   ],
   "source": [
    "import sys\n",
    "\n",
    "n = 10\n",
    "data = []\n",
    "for i in range(n):\n",
    "    a = len(data)\n",
    "    b = sys.getsizeof(data)\n",
    "\n",
    "    print ('Length: {0:3d}; Size in bytes: {1:4d}'.format(a,b))\n",
    "    \n",
    "    data.append(n)"
   ]
  },
  {
   "cell_type": "markdown",
   "metadata": {},
   "source": [
    "## Reverse Integer"
   ]
  },
  {
   "cell_type": "markdown",
   "metadata": {},
   "source": [
    "- Given an Integer, return the integer with reversed digits  \n",
    "- Note: The integer could either be positive or negative"
   ]
  },
  {
   "cell_type": "code",
   "execution_count": 3,
   "metadata": {},
   "outputs": [],
   "source": [
    "def solution(x):\n",
    "    string = str(x)\n",
    "    \n",
    "    if string[0] == '-':\n",
    "        return int('-'+string[:0:-1])\n",
    "    else:\n",
    "        return int(string[::-1])"
   ]
  },
  {
   "cell_type": "code",
   "execution_count": 4,
   "metadata": {},
   "outputs": [
    {
     "name": "stdout",
     "output_type": "stream",
     "text": [
      "-691\n",
      "288\n"
     ]
    }
   ],
   "source": [
    "print(solution(-196))\n",
    "print(solution(882)) "
   ]
  },
  {
   "cell_type": "markdown",
   "metadata": {},
   "source": [
    "## Average words length"
   ]
  },
  {
   "cell_type": "markdown",
   "metadata": {},
   "source": [
    "- For a given sentence, return the average word length\n",
    "- Note: Remember to remove punctuation first"
   ]
  },
  {
   "cell_type": "code",
   "execution_count": 25,
   "metadata": {},
   "outputs": [],
   "source": [
    "sentence1 = \"Hi all, my name is Thom...I am originally from Australia.\"\n",
    "sentence2 = \"I need to work very hard to learn more about algorithms in Python!\"\n",
    "\n",
    "def solution(sentence):\n",
    "    for p in \"!?',;.\":\n",
    "        sentence = sentence.replace(p, '')\n",
    "    words = sentence.split()\n",
    "    return round(sum(len(word) for word in words)/len(words),2)\n"
   ]
  },
  {
   "cell_type": "code",
   "execution_count": 28,
   "metadata": {},
   "outputs": [
    {
     "name": "stdout",
     "output_type": "stream",
     "text": [
      "4.3\n",
      "4.08\n"
     ]
    }
   ],
   "source": [
    "print(solution(sentence1))\n",
    "print(solution(sentence2))"
   ]
  },
  {
   "cell_type": "markdown",
   "metadata": {},
   "source": [
    "- Given two non-negative integers num1 and num2 represented as string, return the sum of num1 and num2.\n",
    "- You must not use any built-in BigInteger library or convert the inputs to integer directly.\n"
   ]
  },
  {
   "cell_type": "markdown",
   "metadata": {},
   "source": [
    "Notes: num1 and num2 containes only digits 0-9\n",
    "num1 and num2 does not contain any leading zero."
   ]
  },
  {
   "cell_type": "code",
   "execution_count": 7,
   "metadata": {},
   "outputs": [
    {
     "name": "stdout",
     "output_type": "stream",
     "text": [
      "2200\n"
     ]
    }
   ],
   "source": [
    "num1 = '364'\n",
    "num2 = '1836'\n",
    "\n",
    "# Soultion1\n",
    "def solution(num1, num2):\n",
    "    #eval(num1) + eval(num2)\n",
    "    return str(eval(num1) + eval(num2))\n",
    "\n",
    "print (solution(num1, num2))"
   ]
  },
  {
   "cell_type": "code",
   "execution_count": 26,
   "metadata": {},
   "outputs": [
    {
     "name": "stdout",
     "output_type": "stream",
     "text": [
      "2200\n"
     ]
    }
   ],
   "source": [
    "#Solution 2\n",
    "# Given the string of length one, the ord() function returns an integer representing the unicode code point of the character.\n",
    "# When the argument is a unicode object or the value of the byte when the argument is an 8-bit string.\n",
    "\n",
    "def solution(num1, num2):\n",
    "    # initializing two numbers with 0\n",
    "    n1, n2 = 0, 0\n",
    "    # geting the order of 100's or 1000's from the length of the string number.\n",
    "    m1, m2 = 10**(len(num1)-1), 10**(len(num2)-1)\n",
    "    \n",
    "    for i in num1:\n",
    "        # Ge\n",
    "        n1 += (ord(i) - ord('0')) * m1\n",
    "        m1 = m1//10\n",
    "        \n",
    "    for i in num2:\n",
    "        n2 += (ord(i) - ord('0'))* m2\n",
    "        m2 = m2//10\n",
    "        \n",
    "    return str(n1+n2)\n",
    "\n",
    "print(solution(num1, num2))    "
   ]
  },
  {
   "cell_type": "code",
   "execution_count": null,
   "metadata": {},
   "outputs": [],
   "source": []
  }
 ],
 "metadata": {
  "kernelspec": {
   "display_name": "Python 3",
   "language": "python",
   "name": "python3"
  },
  "language_info": {
   "codemirror_mode": {
    "name": "ipython",
    "version": 3
   },
   "file_extension": ".py",
   "mimetype": "text/x-python",
   "name": "python",
   "nbconvert_exporter": "python",
   "pygments_lexer": "ipython3",
   "version": "3.6.10"
  }
 },
 "nbformat": 4,
 "nbformat_minor": 4
}
