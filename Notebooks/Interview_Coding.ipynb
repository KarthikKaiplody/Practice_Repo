{
 "cells": [
  {
   "cell_type": "markdown",
   "metadata": {},
   "source": [
    "## Finding the occurence of a letters in a string\n",
    "\n",
    "- Suppose we have a string \"Interview\" the output should be like the below,\n",
    "\n",
    "    i=2\\\n",
    "    n=1\\\n",
    "    t=1\\\n",
    "    e=2\\\n",
    "    r=1\\\n",
    "    v=1\\\n",
    "    w=1\n"
   ]
  },
  {
   "cell_type": "code",
   "execution_count": 1,
   "metadata": {},
   "outputs": [
    {
     "name": "stdout",
     "output_type": "stream",
     "text": [
      "{'i': 2, 'n': 1, 't': 1, 'e': 2, 'r': 1, 'v': 1, 'w': 1}\n"
     ]
    }
   ],
   "source": [
    "def find_occurence(word):\n",
    "    len_ = len(word)\n",
    "    word = word.lower()\n",
    "    occurence_dict = {}\n",
    "    for i in range(len_):\n",
    "        if word[i] in occurence_dict:\n",
    "            occurence_dict[word[i]] += 1\n",
    "        else:    \n",
    "            occurence_dict[word[i]] = 1\n",
    "    return occurence_dict              \n",
    "\n",
    "print(find_occurence(\"Interview\"))"
   ]
  },
  {
   "cell_type": "code",
   "execution_count": null,
   "metadata": {},
   "outputs": [],
   "source": []
  }
 ],
 "metadata": {
  "kernelspec": {
   "display_name": "Python 3",
   "language": "python",
   "name": "python3"
  },
  "language_info": {
   "codemirror_mode": {
    "name": "ipython",
    "version": 3
   },
   "file_extension": ".py",
   "mimetype": "text/x-python",
   "name": "python",
   "nbconvert_exporter": "python",
   "pygments_lexer": "ipython3",
   "version": "3.6.10"
  }
 },
 "nbformat": 4,
 "nbformat_minor": 4
}
